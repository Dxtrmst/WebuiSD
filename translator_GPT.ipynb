{
  "nbformat": 4,
  "nbformat_minor": 0,
  "metadata": {
    "colab": {
      "provenance": [],
      "authorship_tag": "ABX9TyOJSYKFXVD8iqDDZ8x4FCcg",
      "include_colab_link": true
    },
    "kernelspec": {
      "name": "python3",
      "display_name": "Python 3"
    },
    "language_info": {
      "name": "python"
    }
  },
  "cells": [
    {
      "cell_type": "markdown",
      "metadata": {
        "id": "view-in-github",
        "colab_type": "text"
      },
      "source": [
        "<a href=\"https://colab.research.google.com/github/Dxtrmst/WebuiSD/blob/main/translator_GPT.ipynb\" target=\"_parent\"><img src=\"https://colab.research.google.com/assets/colab-badge.svg\" alt=\"Open In Colab\"/></a>"
      ]
    },
    {
      "cell_type": "code",
      "execution_count": null,
      "metadata": {
        "id": "VvyedWjR0JEs"
      },
      "outputs": [],
      "source": [
        "!pip install openai"
      ]
    },
    {
      "cell_type": "code",
      "source": [
        "import os\n",
        "import openai\n",
        "import csv\n",
        "from datetime import datetime\n",
        "\n",
        "# Configure OpenAI API key\n",
        "openai.api_key = \"\"\n",
        "\n",
        "# Function to write to CSV\n",
        "def write_to_csv(serial, input_text, output_text, date):\n",
        "    file_exists = os.path.isfile('translation_log.csv')\n",
        "    with open('translation_log.csv', 'a', newline='') as csvfile:\n",
        "        fieldnames = ['Serial Number', 'Input', 'Output', 'Date']\n",
        "        writer = csv.DictWriter(csvfile, fieldnames=fieldnames)\n",
        "\n",
        "        if not file_exists:\n",
        "            writer.writeheader()\n",
        "\n",
        "        writer.writerow({'Serial Number': serial, 'Input': input_text, 'Output': output_text, 'Date': date})\n",
        "\n",
        "\n",
        "# Initialize serial number\n",
        "serial_number = 1\n",
        "\n",
        "# Your chat or translation loop here\n",
        "while True:\n",
        "    user_input = input(\"Enter text to translate (or 'quit' to exit): \")\n",
        "    if user_input.lower() == 'quit':\n",
        "        break\n",
        "\n",
        "    # Assuming you get the translated text in the variable `translated_text`\n",
        "    response = openai.Completion.create(\n",
        "        model=\"gpt-3.5-turbo-instruct-0914\",\n",
        "        prompt=user_input,\n",
        "        temperature=1,\n",
        "        max_tokens=2048,\n",
        "        top_p=1,\n",
        "        frequency_penalty=0,\n",
        "        presence_penalty=0\n",
        "    )\n",
        "    translated_text = response['choices'][0]['text'].strip()\n",
        "\n",
        "    print(f'Translated Text: {translated_text}')\n",
        "\n",
        "    # Get current date\n",
        "    current_date = datetime.now().strftime(\"%Y-%m-%d %H:%M:%S\")\n",
        "\n",
        "    # Write to CSV\n",
        "    write_to_csv(serial_number, user_input, translated_text, current_date)\n",
        "\n",
        "    # Increment serial number\n",
        "    serial_number += 1\n"
      ],
      "metadata": {
        "id": "IYiaPavx0OQD"
      },
      "execution_count": null,
      "outputs": []
    }
  ]
}