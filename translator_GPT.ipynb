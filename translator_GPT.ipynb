{
  "nbformat": 4,
  "nbformat_minor": 0,
  "metadata": {
    "colab": {
      "provenance": []
    },
    "kernelspec": {
      "name": "python3",
      "display_name": "Python 3"
    },
    "language_info": {
      "name": "python"
    }
  },
  "cells": [
    {
      "cell_type": "code",
      "source": [
        "from google.colab import drive\n",
        "drive.mount('/content/drive')"
      ],
      "metadata": {
        "id": "fe219DutVSWL",
        "outputId": "7d07311c-b3da-47ce-c71b-5f94ebac54fb",
        "colab": {
          "base_uri": "https://localhost:8080/"
        }
      },
      "execution_count": null,
      "outputs": [
        {
          "output_type": "stream",
          "name": "stdout",
          "text": [
            "Mounted at /content/drive\n"
          ]
        }
      ]
    },
    {
      "cell_type": "code",
      "source": [
        "%cd /content/drive/MyDrive/Colab Notebooks\n",
        "!pip install openai"
      ],
      "metadata": {
        "id": "Lwz9FizXZgvo",
        "outputId": "2611caa0-09d6-42ae-e4f3-9cf20aeaaa6e",
        "colab": {
          "base_uri": "https://localhost:8080/"
        }
      },
      "execution_count": null,
      "outputs": [
        {
          "output_type": "stream",
          "name": "stdout",
          "text": [
            "/content/drive/MyDrive/Colab Notebooks\n",
            "Collecting openai\n",
            "  Downloading openai-0.28.1-py3-none-any.whl (76 kB)\n",
            "\u001b[2K     \u001b[90m━━━━━━━━━━━━━━━━━━━━━━━━━━━━━━━━━━━━━━━━\u001b[0m \u001b[32m77.0/77.0 kB\u001b[0m \u001b[31m3.1 MB/s\u001b[0m eta \u001b[36m0:00:00\u001b[0m\n",
            "\u001b[?25hRequirement already satisfied: requests>=2.20 in /usr/local/lib/python3.10/dist-packages (from openai) (2.31.0)\n",
            "Requirement already satisfied: tqdm in /usr/local/lib/python3.10/dist-packages (from openai) (4.66.1)\n",
            "Requirement already satisfied: aiohttp in /usr/local/lib/python3.10/dist-packages (from openai) (3.8.6)\n",
            "Requirement already satisfied: charset-normalizer<4,>=2 in /usr/local/lib/python3.10/dist-packages (from requests>=2.20->openai) (3.3.1)\n",
            "Requirement already satisfied: idna<4,>=2.5 in /usr/local/lib/python3.10/dist-packages (from requests>=2.20->openai) (3.4)\n",
            "Requirement already satisfied: urllib3<3,>=1.21.1 in /usr/local/lib/python3.10/dist-packages (from requests>=2.20->openai) (2.0.7)\n",
            "Requirement already satisfied: certifi>=2017.4.17 in /usr/local/lib/python3.10/dist-packages (from requests>=2.20->openai) (2023.7.22)\n",
            "Requirement already satisfied: attrs>=17.3.0 in /usr/local/lib/python3.10/dist-packages (from aiohttp->openai) (23.1.0)\n",
            "Requirement already satisfied: multidict<7.0,>=4.5 in /usr/local/lib/python3.10/dist-packages (from aiohttp->openai) (6.0.4)\n",
            "Requirement already satisfied: async-timeout<5.0,>=4.0.0a3 in /usr/local/lib/python3.10/dist-packages (from aiohttp->openai) (4.0.3)\n",
            "Requirement already satisfied: yarl<2.0,>=1.0 in /usr/local/lib/python3.10/dist-packages (from aiohttp->openai) (1.9.2)\n",
            "Requirement already satisfied: frozenlist>=1.1.1 in /usr/local/lib/python3.10/dist-packages (from aiohttp->openai) (1.4.0)\n",
            "Requirement already satisfied: aiosignal>=1.1.2 in /usr/local/lib/python3.10/dist-packages (from aiohttp->openai) (1.3.1)\n",
            "Installing collected packages: openai\n",
            "\u001b[31mERROR: pip's dependency resolver does not currently take into account all the packages that are installed. This behaviour is the source of the following dependency conflicts.\n",
            "llmx 0.0.15a0 requires cohere, which is not installed.\n",
            "llmx 0.0.15a0 requires tiktoken, which is not installed.\u001b[0m\u001b[31m\n",
            "\u001b[0mSuccessfully installed openai-0.28.1\n"
          ]
        }
      ]
    },
    {
      "cell_type": "code",
      "source": [
        "#@title translate please\n",
        "import os\n",
        "import openai\n",
        "import csv\n",
        "from datetime import datetime\n",
        "\n",
        "def open_file(filepath):\n",
        "    with open(filepath, 'r', encoding='utf-8', errors='ignore') as infile:\n",
        "        return infile.read()\n",
        "\n",
        "# Configure OpenAI API key\n",
        "openai.api_key = open_file('key_openai.txt').strip()\n",
        "\n",
        "# Function to write to CSV\n",
        "def write_to_csv(serial, input_text, output_text, date):\n",
        "    file_exists = os.path.isfile('/content/drive/MyDrive/translation_log.csv')\n",
        "    with open('/content/drive/MyDrive/translation_log.csv', 'a', newline='') as csvfile:\n",
        "        fieldnames = ['Serial Number', 'Input', 'Output', 'Date']\n",
        "        writer = csv.DictWriter(csvfile, fieldnames=fieldnames)\n",
        "\n",
        "        if not file_exists:\n",
        "            writer.writeheader()\n",
        "\n",
        "        writer.writerow({'Serial Number': serial, 'Input': input_text, 'Output': output_text, 'Date': date})\n",
        "\n",
        "# Initialize serial number\n",
        "serial_number = 1\n",
        "\n",
        "# Your chat or translation loop here\n",
        "while True:\n",
        "    user_input = input(\"Enter text to translate from Korean to English (or 'quit' to exit): \")\n",
        "    if user_input.lower() == 'quit':\n",
        "        break\n",
        "\n",
        "    # Setting up the system and user messages for the chat\n",
        "    system_message = {\n",
        "        \"role\": \"system\",\n",
        "        \"content\": \"Translate the text input from Korean to English. After the translation, organize the output to make it easily readable such that it should be similar to the input.\"\n",
        "    }\n",
        "    user_message = {\n",
        "        \"role\": \"user\",\n",
        "        \"content\": user_input\n",
        "    }\n",
        "\n",
        "    # Create a chat completion response\n",
        "    response = openai.ChatCompletion.create(\n",
        "        model=\"gpt-3.5-turbo-16k-0613\",\n",
        "        messages=[\n",
        "            system_message,\n",
        "            user_message\n",
        "        ],\n",
        "        temperature=1,\n",
        "        max_tokens=1921,\n",
        "        top_p=1,\n",
        "        frequency_penalty=0,\n",
        "        presence_penalty=0\n",
        "    )\n",
        "\n",
        "    # Assuming the translation is provided in the response\n",
        "    translated_text = response['choices'][0]['message']['content']\n",
        "\n",
        "    print(f'Translated Text: {translated_text}')\n",
        "\n",
        "    # Get current date\n",
        "    current_date = datetime.now().strftime(\"%Y-%m-%d %H:%M:%S\")\n",
        "\n",
        "    # Write to CSV\n",
        "    write_to_csv(serial_number, user_input, translated_text, current_date)\n",
        "\n",
        "    # Increment serial number\n",
        "    serial_number += 1\n"
      ],
      "metadata": {
        "id": "IYiaPavx0OQD",
        "outputId": "a9addf72-63c1-4036-bb5d-3fffb6667cc8",
        "colab": {
          "base_uri": "https://localhost:8080/"
        }
      },
      "execution_count": null,
      "outputs": [
        {
          "name": "stdout",
          "output_type": "stream",
          "text": [
            "Enter text to translate from Korean to English (or 'quit' to exit):"
          ]
        }
      ]
    }
  ]
}
