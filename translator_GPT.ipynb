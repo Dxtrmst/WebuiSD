{
  "nbformat": 4,
  "nbformat_minor": 0,
  "metadata": {
    "colab": {
      "provenance": []
    },
    "kernelspec": {
      "name": "python3",
      "display_name": "Python 3"
    },
    "language_info": {
      "name": "python"
    }
  },
  "cells": [
    {
      "cell_type": "code",
      "source": [
        "from google.colab import drive\n",
        "drive.mount('/content/drive')"
      ],
      "metadata": {
        "id": "fe219DutVSWL",
        "outputId": "f53cf857-1f1f-47e8-c8f8-ba8a052864bf",
        "colab": {
          "base_uri": "https://localhost:8080/"
        }
      },
      "execution_count": 1,
      "outputs": [
        {
          "output_type": "stream",
          "name": "stdout",
          "text": [
            "Mounted at /content/drive\n"
          ]
        }
      ]
    },
    {
      "cell_type": "code",
      "source": [
        "%cd /content/drive/MyDrive/Colab Notebooks\n",
        "!pip install openai"
      ],
      "metadata": {
        "id": "Lwz9FizXZgvo",
        "outputId": "abcdd75f-8d60-483c-9f62-cf41d867ebc1",
        "colab": {
          "base_uri": "https://localhost:8080/"
        }
      },
      "execution_count": 2,
      "outputs": [
        {
          "output_type": "stream",
          "name": "stdout",
          "text": [
            "/content/drive/MyDrive/Colab Notebooks\n",
            "Collecting openai\n",
            "  Downloading openai-1.1.1-py3-none-any.whl (217 kB)\n",
            "\u001b[2K     \u001b[90m━━━━━━━━━━━━━━━━━━━━━━━━━━━━━━━━━━━━━━━━\u001b[0m \u001b[32m217.8/217.8 kB\u001b[0m \u001b[31m4.5 MB/s\u001b[0m eta \u001b[36m0:00:00\u001b[0m\n",
            "\u001b[?25hRequirement already satisfied: anyio<4,>=3.5.0 in /usr/local/lib/python3.10/dist-packages (from openai) (3.7.1)\n",
            "Requirement already satisfied: distro<2,>=1.7.0 in /usr/lib/python3/dist-packages (from openai) (1.7.0)\n",
            "Collecting httpx<1,>=0.23.0 (from openai)\n",
            "  Downloading httpx-0.25.1-py3-none-any.whl (75 kB)\n",
            "\u001b[2K     \u001b[90m━━━━━━━━━━━━━━━━━━━━━━━━━━━━━━━━━━━━━━━━\u001b[0m \u001b[32m75.0/75.0 kB\u001b[0m \u001b[31m5.2 MB/s\u001b[0m eta \u001b[36m0:00:00\u001b[0m\n",
            "\u001b[?25hRequirement already satisfied: pydantic<3,>=1.9.0 in /usr/local/lib/python3.10/dist-packages (from openai) (1.10.13)\n",
            "Requirement already satisfied: tqdm>4 in /usr/local/lib/python3.10/dist-packages (from openai) (4.66.1)\n",
            "Requirement already satisfied: typing-extensions<5,>=4.5 in /usr/local/lib/python3.10/dist-packages (from openai) (4.5.0)\n",
            "Requirement already satisfied: idna>=2.8 in /usr/local/lib/python3.10/dist-packages (from anyio<4,>=3.5.0->openai) (3.4)\n",
            "Requirement already satisfied: sniffio>=1.1 in /usr/local/lib/python3.10/dist-packages (from anyio<4,>=3.5.0->openai) (1.3.0)\n",
            "Requirement already satisfied: exceptiongroup in /usr/local/lib/python3.10/dist-packages (from anyio<4,>=3.5.0->openai) (1.1.3)\n",
            "Requirement already satisfied: certifi in /usr/local/lib/python3.10/dist-packages (from httpx<1,>=0.23.0->openai) (2023.7.22)\n",
            "Collecting httpcore (from httpx<1,>=0.23.0->openai)\n",
            "  Downloading httpcore-1.0.1-py3-none-any.whl (76 kB)\n",
            "\u001b[2K     \u001b[90m━━━━━━━━━━━━━━━━━━━━━━━━━━━━━━━━━━━━━━━━\u001b[0m \u001b[32m76.9/76.9 kB\u001b[0m \u001b[31m4.6 MB/s\u001b[0m eta \u001b[36m0:00:00\u001b[0m\n",
            "\u001b[?25hCollecting h11<0.15,>=0.13 (from httpcore->httpx<1,>=0.23.0->openai)\n",
            "  Downloading h11-0.14.0-py3-none-any.whl (58 kB)\n",
            "\u001b[2K     \u001b[90m━━━━━━━━━━━━━━━━━━━━━━━━━━━━━━━━━━━━━━━━\u001b[0m \u001b[32m58.3/58.3 kB\u001b[0m \u001b[31m6.5 MB/s\u001b[0m eta \u001b[36m0:00:00\u001b[0m\n",
            "\u001b[?25hInstalling collected packages: h11, httpcore, httpx, openai\n",
            "\u001b[31mERROR: pip's dependency resolver does not currently take into account all the packages that are installed. This behaviour is the source of the following dependency conflicts.\n",
            "llmx 0.0.15a0 requires cohere, which is not installed.\n",
            "llmx 0.0.15a0 requires tiktoken, which is not installed.\u001b[0m\u001b[31m\n",
            "\u001b[0mSuccessfully installed h11-0.14.0 httpcore-1.0.1 httpx-0.25.1 openai-1.1.1\n"
          ]
        }
      ]
    },
    {
      "cell_type": "code",
      "source": [
        "from openai import OpenAI\n",
        "import openai\n",
        "import os\n",
        "import csv\n",
        "from datetime import datetime\n",
        "\n",
        "# Function to open a file and read the API key\n",
        "def open_file(filepath):\n",
        "    with open(filepath, 'r', encoding='utf-8', errors='ignore') as infile:\n",
        "        return infile.read()\n",
        "\n",
        "# Configure OpenAI API key\n",
        "openai.api_key = open_file('key_openai.txt').strip()\n",
        "\n",
        "# Initialize OpenAI client\n",
        "\n",
        "\n",
        "# Function to write to CSV\n",
        "def write_to_csv(serial, input_text, output_text, date):\n",
        "    file_exists = os.path.isfile('/content/drive/MyDrive/translation_log.csv')\n",
        "    with open('/content/drive/MyDrive/translation_log.csv', 'a', newline='') as csvfile:\n",
        "        fieldnames = ['Serial Number', 'Input', 'Output', 'Date']\n",
        "        writer = csv.DictWriter(csvfile, fieldnames=fieldnames)\n",
        "\n",
        "        if not file_exists:\n",
        "            writer.writeheader()\n",
        "\n",
        "        writer.writerow({'Serial Number': serial, 'Input': input_text, 'Output': output_text, 'Date': date})\n",
        "\n",
        "# Initialize serial number\n",
        "serial_number = 1\n",
        "\n",
        "# Your chat or translation loop here\n",
        "while True:\n",
        "    user_input = input(\"Enter text to translate from Korean to English (or 'quit' to exit): \")\n",
        "    if user_input.lower() == 'quit':\n",
        "        break\n",
        "\n",
        "    # Create a chat completion response\n",
        "    response = openai.chat.completions.create(\n",
        "        model=\"gpt-3.5-turbo-16k-0613\",\n",
        "        messages=[\n",
        "            {\n",
        "                \"role\": \"system\",\n",
        "                \"content\": \"Translate the text input from Korean to English. After the translation, organize the output to make it easily readable such that it should be similar to the input. Make sure to limit to 100 characters per line.\"\n",
        "            },\n",
        "            {\n",
        "                \"role\": \"user\",\n",
        "                \"content\": user_input\n",
        "            }\n",
        "        ],\n",
        "        temperature=0.5,  # Adjust temperature if needed to balance between creativity and randomness\n",
        "        max_tokens=1024,  # You can adjust the max tokens as per the requirement of the translation length\n",
        "        stop=None,  # You can define stop sequences if there are any specific endpoints for responses\n",
        "        n=1  # Number of completions to generate\n",
        "    )\n",
        "\n",
        "    # Assuming the translation is provided in the response\n",
        "    translated_text = response.choices[0].message.content\n",
        "\n",
        "    print(f'Translated Text: {translated_text}')\n",
        "\n",
        "    # Get current date\n",
        "    current_date = datetime.now().strftime(\"%Y-%m-%d %H:%M:%S\")\n",
        "\n",
        "    # Write to CSV\n",
        "    write_to_csv(serial_number, user_input, translated_text, current_date)\n",
        "\n",
        "    # Increment serial number\n",
        "    serial_number += 1\n"
      ],
      "metadata": {
        "colab": {
          "base_uri": "https://localhost:8080/"
        },
        "id": "0pTZzyP_YLO-",
        "outputId": "e7c44f04-1425-4e0e-bdf1-66884c22fba6"
      },
      "execution_count": null,
      "outputs": [
        {
          "output_type": "stream",
          "name": "stdout",
          "text": [
            "Enter text to translate from Korean to English (or 'quit' to exit): 앵커  '공매도 금지' 발표 이후 어제 크게 올랐던 코스피와 코스닥이 동반 하락했습니다.  어제 하루 7% 넘게 올랐던 코스닥은 오전 한때 급격한 하락세에 거래를 중단하는 매도 사이드카가 발동하기도 했습니다.  고재민 기자가 보도합니다.  리포트  공매도 전면 금지 이틀째인 오늘, 코스피가 2443.96으로 마감했습니다.  어제 2500선을 넘겼지만, 오늘 하루에만 2.33% 60포인트 가까이 빠졌습니다.  어제 7% 넘게 급등한 코스닥지수도 1.8% 떨어진 824.37로 장을 마쳤습니다.  오전 한때 지수가 급락하면서 프로그램 매도 효력 정지 조치, 사이드카가 발동하기도 했습니다.  어제는 지수가 급등하면서 3년 5개월 만에 매수 사이드카가 발동했는데 오늘은 반대로 지수가 급격히 떨어지면서 발동한 겁니다.  발동 당시 코스닥150 선물은 어제 종가보다 6.46% 하락했고, 코스닥150지수는 3% 넘게 급락한 상태였습니다.  코스피와 코스닥 모두 외국인과 기관이 순매도에 나서며 지수를 끌어내렸습니다.  어제 공매도 금지 직후 외국인 투자자들을 중심으로 공매도로 빌린 주식을 갚기 위해 주식을 사들이는 '숏 커버'에 들어가면서 매수세를 보였지만, 하루 만에 순매도로 전환한 겁니다.  어제 급등한 2차전지 종목인 LG에너지솔루션, POSCO홀딩스는 10% 넘게 빠졌고, 어제 상한가를 기록한 에코프로비엠도 5% 가까이 내렸습니다.  다만 에코프로는 장중 등락을 거듭하다 3.74% 오른 채 마감했습니다.  MBC뉴스 고재민입니다.\n",
            "Translated Text: Anchor: After the announcement of the ban on short selling, both the KOSPI and KOSDAQ, which had risen significantly yesterday, experienced a simultaneous decline. The KOSDAQ, which had risen over 7% yesterday, saw a sharp decline this morning, triggering a halt in trading and the activation of a sell-side circuit breaker. Reporter Go Jaemin provides the report.\n",
            "\n",
            "Report: On the second day of the full ban on short selling, the KOSPI closed at 2443.96. Although it crossed the 2500 mark yesterday, it dropped nearly 2.33% or 60 points today. The KOSDAQ, which had risen over 7% yesterday, closed at 824.37, down 1.8%. This morning, when the index plummeted, program selling was halted, and the sell-side circuit breaker was activated. Yesterday, the index rose sharply, triggering a buy-side circuit breaker for the first time in 3 years and 5 months, but today, it was activated due to a rapid decline in the index. At the time of activation, the KOSDAQ 150 futures dropped 6.46% from the previous day's closing, and the KOSDAQ 150 index fell over 3%. Both the KOSPI and KOSDAQ were pulled down by foreign and institutional selling. Immediately after the ban on short selling yesterday, there was buying pressure from foreign investors to cover short positions, but it quickly turned into net selling within a day. LG Energy Solution and POSCO Holdings, which were hot secondary battery stocks yesterday, dropped over 10%, and EcoProBM, which hit the daily limit yesterday, fell nearly 5%. However, EcoProBM fluctuated throughout the day and closed with a 3.74% increase. This is MBC News, Go Jaemin.\n"
          ]
        }
      ]
    },
    {
      "cell_type": "code",
      "source": [
        "#@title translate please\n",
        "import os\n",
        "import openai\n",
        "import csv\n",
        "from datetime import datetime\n",
        "\n",
        "def open_file(filepath):\n",
        "    with open(filepath, 'r', encoding='utf-8', errors='ignore') as infile:\n",
        "        return infile.read()\n",
        "\n",
        "# Configure OpenAI API key\n",
        "openai.api_key = open_file('key_openai.txt').strip()\n",
        "\n",
        "# Function to write to CSV\n",
        "def write_to_csv(serial, input_text, output_text, date):\n",
        "    file_exists = os.path.isfile('/content/drive/MyDrive/translation_log.csv')\n",
        "    with open('/content/drive/MyDrive/translation_log.csv', 'a', newline='') as csvfile:\n",
        "        fieldnames = ['Serial Number', 'Input', 'Output', 'Date']\n",
        "        writer = csv.DictWriter(csvfile, fieldnames=fieldnames)\n",
        "\n",
        "        if not file_exists:\n",
        "            writer.writeheader()\n",
        "\n",
        "        writer.writerow({'Serial Number': serial, 'Input': input_text, 'Output': output_text, 'Date': date})\n",
        "\n",
        "# Initialize serial number\n",
        "serial_number = 1\n",
        "\n",
        "# Your chat or translation loop here\n",
        "while True:\n",
        "    user_input = input(\"Enter text to translate from Korean to English (or 'quit' to exit): \")\n",
        "    if user_input.lower() == 'quit':\n",
        "        break\n",
        "\n",
        "    # Setting up the system and user messages for the chat\n",
        "    system_message = {\n",
        "        \"role\": \"system\",\n",
        "        \"content\": \"Translate the text input from Korean to English. After the translation, organize the output to make it easily readable such that it should be similar to the input.\"\n",
        "    }\n",
        "    user_message = {\n",
        "        \"role\": \"user\",\n",
        "        \"content\": user_input\n",
        "    }\n",
        "\n",
        "    # Create a chat completion response\n",
        "    response = openai.ChatCompletion.create(\n",
        "        model=\"gpt-3.5-turbo-16k-0613\",\n",
        "        messages=[\n",
        "            system_message,\n",
        "            user_message\n",
        "        ],\n",
        "        temperature=1,\n",
        "        max_tokens=1921,\n",
        "        top_p=1,\n",
        "        frequency_penalty=0,\n",
        "        presence_penalty=0\n",
        "    )\n",
        "\n",
        "    # Assuming the translation is provided in the response\n",
        "    translated_text = response['choices'][0]['message']['content']\n",
        "\n",
        "    print(f'Translated Text: {translated_text}')\n",
        "\n",
        "    # Get current date\n",
        "    current_date = datetime.now().strftime(\"%Y-%m-%d %H:%M:%S\")\n",
        "\n",
        "    # Write to CSV\n",
        "    write_to_csv(serial_number, user_input, translated_text, current_date)\n",
        "\n",
        "    # Increment serial number\n",
        "    serial_number += 1\n"
      ],
      "metadata": {
        "id": "IYiaPavx0OQD"
      },
      "execution_count": null,
      "outputs": []
    }
  ]
}