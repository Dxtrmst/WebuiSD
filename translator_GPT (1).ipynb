{
  "nbformat": 4,
  "nbformat_minor": 0,
  "metadata": {
    "colab": {
      "provenance": []
    },
    "kernelspec": {
      "name": "python3",
      "display_name": "Python 3"
    },
    "language_info": {
      "name": "python"
    }
  },
  "cells": [
    {
      "cell_type": "code",
      "source": [
        "from google.colab import drive\n",
        "drive.mount('/content/drive')"
      ],
      "metadata": {
        "id": "fe219DutVSWL",
        "outputId": "7d07311c-b3da-47ce-c71b-5f94ebac54fb",
        "colab": {
          "base_uri": "https://localhost:8080/"
        }
      },
      "execution_count": null,
      "outputs": [
        {
          "output_type": "stream",
          "name": "stdout",
          "text": [
            "Mounted at /content/drive\n"
          ]
        }
      ]
    },
    {
      "cell_type": "code",
      "source": [
        "%cd /content/drive/MyDrive/Colab Notebooks\n",
        "!pip install openai"
      ],
      "metadata": {
        "id": "Lwz9FizXZgvo",
        "outputId": "2611caa0-09d6-42ae-e4f3-9cf20aeaaa6e",
        "colab": {
          "base_uri": "https://localhost:8080/"
        }
      },
      "execution_count": null,
      "outputs": [
        {
          "output_type": "stream",
          "name": "stdout",
          "text": [
            "/content/drive/MyDrive/Colab Notebooks\n",
            "Collecting openai\n",
            "  Downloading openai-0.28.1-py3-none-any.whl (76 kB)\n",
            "\u001b[2K     \u001b[90m━━━━━━━━━━━━━━━━━━━━━━━━━━━━━━━━━━━━━━━━\u001b[0m \u001b[32m77.0/77.0 kB\u001b[0m \u001b[31m3.1 MB/s\u001b[0m eta \u001b[36m0:00:00\u001b[0m\n",
            "\u001b[?25hRequirement already satisfied: requests>=2.20 in /usr/local/lib/python3.10/dist-packages (from openai) (2.31.0)\n",
            "Requirement already satisfied: tqdm in /usr/local/lib/python3.10/dist-packages (from openai) (4.66.1)\n",
            "Requirement already satisfied: aiohttp in /usr/local/lib/python3.10/dist-packages (from openai) (3.8.6)\n",
            "Requirement already satisfied: charset-normalizer<4,>=2 in /usr/local/lib/python3.10/dist-packages (from requests>=2.20->openai) (3.3.1)\n",
            "Requirement already satisfied: idna<4,>=2.5 in /usr/local/lib/python3.10/dist-packages (from requests>=2.20->openai) (3.4)\n",
            "Requirement already satisfied: urllib3<3,>=1.21.1 in /usr/local/lib/python3.10/dist-packages (from requests>=2.20->openai) (2.0.7)\n",
            "Requirement already satisfied: certifi>=2017.4.17 in /usr/local/lib/python3.10/dist-packages (from requests>=2.20->openai) (2023.7.22)\n",
            "Requirement already satisfied: attrs>=17.3.0 in /usr/local/lib/python3.10/dist-packages (from aiohttp->openai) (23.1.0)\n",
            "Requirement already satisfied: multidict<7.0,>=4.5 in /usr/local/lib/python3.10/dist-packages (from aiohttp->openai) (6.0.4)\n",
            "Requirement already satisfied: async-timeout<5.0,>=4.0.0a3 in /usr/local/lib/python3.10/dist-packages (from aiohttp->openai) (4.0.3)\n",
            "Requirement already satisfied: yarl<2.0,>=1.0 in /usr/local/lib/python3.10/dist-packages (from aiohttp->openai) (1.9.2)\n",
            "Requirement already satisfied: frozenlist>=1.1.1 in /usr/local/lib/python3.10/dist-packages (from aiohttp->openai) (1.4.0)\n",
            "Requirement already satisfied: aiosignal>=1.1.2 in /usr/local/lib/python3.10/dist-packages (from aiohttp->openai) (1.3.1)\n",
            "Installing collected packages: openai\n",
            "\u001b[31mERROR: pip's dependency resolver does not currently take into account all the packages that are installed. This behaviour is the source of the following dependency conflicts.\n",
            "llmx 0.0.15a0 requires cohere, which is not installed.\n",
            "llmx 0.0.15a0 requires tiktoken, which is not installed.\u001b[0m\u001b[31m\n",
            "\u001b[0mSuccessfully installed openai-0.28.1\n"
          ]
        }
      ]
    },
    {
      "cell_type": "code",
      "source": [
        "#@title translate please\n",
        "import os\n",
        "import openai\n",
        "import csv\n",
        "from datetime import datetime\n",
        "\n",
        "def open_file(filepath):\n",
        "    with open(filepath, 'r', encoding='utf-8', errors='ignore') as infile:\n",
        "        return infile.read()\n",
        "\n",
        "# Configure OpenAI API key\n",
        "openai.api_key = open_file('key_openai.txt').strip()\n",
        "\n",
        "# Function to write to CSV\n",
        "def write_to_csv(serial, input_text, output_text, date):\n",
        "    file_exists = os.path.isfile('/content/drive/MyDrive/translation_log.csv')\n",
        "    with open('/content/drive/MyDrive/translation_log.csv', 'a', newline='') as csvfile:\n",
        "        fieldnames = ['Serial Number', 'Input', 'Output', 'Date']\n",
        "        writer = csv.DictWriter(csvfile, fieldnames=fieldnames)\n",
        "\n",
        "        if not file_exists:\n",
        "            writer.writeheader()\n",
        "\n",
        "        writer.writerow({'Serial Number': serial, 'Input': input_text, 'Output': output_text, 'Date': date})\n",
        "\n",
        "# Initialize serial number\n",
        "serial_number = 1\n",
        "\n",
        "# Your chat or translation loop here\n",
        "while True:\n",
        "    user_input = input(\"Enter text to translate from Korean to English (or 'quit' to exit): \")\n",
        "    if user_input.lower() == 'quit':\n",
        "        break\n",
        "\n",
        "    # Setting up the system and user messages for the chat\n",
        "    system_message = {\n",
        "        \"role\": \"system\",\n",
        "        \"content\": \"Translate the text input from Korean to English. After the translation, organize the output to make it easily readable such that it should be similar to the input.\"\n",
        "    }\n",
        "    user_message = {\n",
        "        \"role\": \"user\",\n",
        "        \"content\": user_input\n",
        "    }\n",
        "\n",
        "    # Create a chat completion response\n",
        "    response = openai.ChatCompletion.create(\n",
        "        model=\"gpt-3.5-turbo-16k-0613\",\n",
        "        messages=[\n",
        "            system_message,\n",
        "            user_message\n",
        "        ],\n",
        "        temperature=1,\n",
        "        max_tokens=1921,\n",
        "        top_p=1,\n",
        "        frequency_penalty=0,\n",
        "        presence_penalty=0\n",
        "    )\n",
        "\n",
        "    # Assuming the translation is provided in the response\n",
        "    translated_text = response['choices'][0]['message']['content']\n",
        "\n",
        "    print(f'Translated Text: {translated_text}')\n",
        "\n",
        "    # Get current date\n",
        "    current_date = datetime.now().strftime(\"%Y-%m-%d %H:%M:%S\")\n",
        "\n",
        "    # Write to CSV\n",
        "    write_to_csv(serial_number, user_input, translated_text, current_date)\n",
        "\n",
        "    # Increment serial number\n",
        "    serial_number += 1\n"
      ],
      "metadata": {
        "id": "IYiaPavx0OQD",
        "outputId": "a9addf72-63c1-4036-bb5d-3fffb6667cc8",
        "colab": {
          "base_uri": "https://localhost:8080/"
        }
      },
      "execution_count": null,
      "outputs": [
        {
          "name": "stdout",
          "output_type": "stream",
          "text": [
            "Enter text to translate from Korean to English (or 'quit' to exit): 본부장  1)     화두는 입찰 강화가 주요 내용임. 영업실, 수행실, 기획실에서 함께 준비하여 주기 바람.  2)     화공 사업에 대해서만 언급이 되었지만 에너지 사업부에서도 준비를 함께 해 주어야 할 것임.  3)     현재까지 수립한 혁신 과제는 반드시 적용할 수 있도록 할 것  4)     예산 관리가 중요함. 수행하면서 예산을 못 맞추는 사례가 있으므로 잘 점검해야 함.  5)     본부 전체가 힘을 합쳐서 어려움이 있을수록 함께 극복해 나가야 할 것임.  2.     권준희 상무  1)     대표님 일정 조정 요청으로 코펜하겐 CIP 회의 일정 조정 연락하였으나 미팅은 11월8일 원래 일정대로 실시 예정임.  3.     유창준 상무  1)     SSHN PKG1  -       11월 분 380억 받았고 12월 340억은 제출된 상태이며 조기 수금 요청하였음  -       60% 3D Internal Review 착수했고 PO 제출 중임.  -       11월 시항 타 목표로 진행 중임.  2)     SSHN PKG2  -       11월 수금 136억 승인됨. 12월 수금 110억 조기 수금 협상 중임.  -       PID IFC Issue를 완료함. 60% 3D를 가장 우선 착수하고 완성도도 가장 높을 것으로 보임.  -       배관 11월에 100% 물량 산출하여 발주하는 것이 목표임.  -       총 3대 항타기 반입 예정인데 마지막 항타기가 11월 중순에 입고될 예정임.  -       11월10일 안전 기원제 예정임. 상세 일정 보고 하겠음.  3)     본부장  -       SOIL에 대한 Network을 강화할 필요가 있음. 현대건설은 발주처와의 관계 형성의 강점이 있어 보이므로 참고할 필요가 있음.  4.     이승원 상무  1)     공주 주기기: 11월3일 재 입찰서 제출 예정임.  2)     현대 제철 자가 발전: 11월1일 내부 투자 심의가 완료됨. 11월 중순 투자 심의 예정  3)     삼천포 주기기: 기술, 사업 계약 협상 진행 중임. 기술 사항은 GTG, STG 관련 이견이 있어서 협의 중임.  4)     IKCP: 중재가 등록이 되고 PLN CEO까지 중재 사항이 보고가 되었고 PLN 법무실에서 당사에 협상 요청이 예상됨.  5)     TACC: 166.4억 입금 완료되고 (현지화 부분) 외화부분도 수금 예정이며 총 341.6억 수금 완료 예상됨. 공정 지연이 지속되고 있는 우려가 있음.  6)     본부장  -       TACC는 공정 Behind 폭이 커지고 있고 만회 대책이 중요한 것이 아니라 당장 조치를 취해야 할 것임.  5.     김도형 상무  1)     SACE 2: 2주내 실무 계약 예상됨.  2)     투르크 탈황 4차: 2차 Clarification 발주처 회신이 접수될 예정임.  3)     본부장  -       STA1 JV 승인 건은 어떻게 되고 있는지? à 조속히 검토 하겠음.  6.     김찬수 상무  1)     사업 수행 발표 대표 지시 사항은 별도로 정리 보고 하겠음.  2)     PSA 관련 Negative C/O 협의 중에 있음.  3)     현지 캠프는 임대 캠프 최대화 적용과 현지 캠프 설치 건 병행 해서 검토 중에 있음.  4)     HDEC와 JV 구도 협상 중임.  5)     Master Plan Workshop 실시하였음 (10월)  6)     보일러 PKG는 금주중 구매실과 협상 완료하고 발주 진행하도록 하겠음.  7)     OOK Vendor 추진 관련 발주처 PD 방문하여 협의하였고 발주처 PD는 Case 별로 협의하고 객관성 입증을 요구하였음.  금월말에 주 계약자가 ARAMCO에서 SATORP으로 변경될 예정이므로 IK에 대한 부분은 조정이 가능할 것 같음.  8)     GENECON 운영 관련 업체 추가 조사중에 있으며 11월에 실사 후 최종안 11월중에 확정 보고 하겠음.  9)     Pile 업체 선정 관련하여 BOQ가 확정되어 5개 업체 대상으로 검토 중임.  10)  본부장  -       Field 배관 10% 공정 시 10% Progress Ahead를 하라는 대표님 지시는 가능할 것 같은지?  è  Baseline 기준 내부 Activity를 앞당기는 것으로 내부 스케줄을 조정할 예정임.  -       시공 공정 10% Ahead이면 얼마나 당겨야 할 것으로 보이는지?  è  3~4개월을 당겨야 할 것으로 판단됨.  è  (본부장) UKAN은 9개월을 당겨서 했는데도 10%를 Ahead를 한적은 없음. 거의 10개월을 당겨야 하는 수준이라 검토를 철저히 해야 할 것임.  -       STA1 착수한지 4개월이 지났고 열심히 진행하고 있으나, GENECON 선정 포함 전체적으로 보면 진행이 늦는 것으로 보임.  7.     박재홍 상무  1)     금일 오후 LECO 90% 마일스톤 Workshop 예정이며, KBR 및 청산 전망은 내일 보고 예정임.  2)     본부장  -       예측 원가가 100% 넘을 것으로 보이므로 지금부터 발주처와 협상을 통해서 정리를 해야 할 것임.  8.     정외환 상무  1)     안마도 해상 풍력: 사전 개발 반환 관련 소송으로 진행 예정임.  2)     세르비아 태양광: 대표님이 13~15일 그룹 일정으로 일정 조정 중이나 불가시 본부장 참석 예상됨  3)     본부장  -       우즈베키스탄 출장 후 보고를 받지 못했는데 상황은 어떤지?  è  원자력은 긍정적으로 진행하자는 의견이나 태양광 (EE에서 이미 진행하고 있었음), 수소 (AGP사와 1년전부터 진행)는 다른쪽에서 이미 진행하고 있어서 HEC가 EE사와 진행은 부정적인 의견임.  9.     정성용 상무  1)     삼척 암모니아 터미널: 상업 입찰이 11월24일 예상되며 11월6일 수주 심의 예정임.  2)     사우디 Horizon 2: FEED 입찰이 일정 연장 됨.  3)     본부장  -       입찰을 어떻게 강화할 것인지 방안을 마련하여 보고 할 것.  -       지금 진행하는 입찰에 대해서 조직도 포함하고 보직자 서명을 받아서 보고를 할 수 있도록 할 것  -       영업실에서만 가지고 입찰을 만족스럽게 할 수 없으니 유관 조직의 협조가 반드시 필요할 것임.  -       (정성용 상무) 현재 입찰 수행 인원이 8명이나 16명으로 인력이 충원 되어야 할 것으로 보이므로 협조가 필요함. (수행à입찰 전환)  10.  김주환 실장  1)     전사 임원 본인 평가 11월3일까지 평가 완료는 11월17일 대표이사 조정 11월24일 예정임.  2)     2024년 사업 계획 Workshop을 11월16일 15시~17시30분 예정. 본부장 사전 검토 11월13일 예정임.  3)     혁신 추진 TFT 관련 매주 금요일 10시에 정기 회의 실시 예정임.  è  입찰 견적 인원 대상으로 Workshop 실시 하였고 11월에 입찰, 설계, 수행 조직간 Workshop 진행 예정임.  4)     본부장  -       수행 사업 청산 전망이 시간이 많이 걸리고 있는데 취합에 왜 시간이 걸리는지?  è  견적 예산부터 시작해서 금액 상승에 대한 원인 분석 등 CEO 지시사항 반영에 시간이 다소 소요되고 있음.  11.  이이성 실장  1)     SACE 조달 배관 Fitting 자재  -       11월말, 12월초 현장 도착 예상됨.  -       1월까지 Forged Fitting은 83%, Flange는 90% 입고 예정임.  2)     유럽지역 조달 관리가 필요하여 밀란 사무소 인력 강화 예정임.  3)     EU 탄소세 관련 : EOSE 현장에 배관 Spool등 10개 업체가 해당됨  4)     TUCF: WWT 주요 자재 Membrane Skid가 현장 입고가 완료됨.  5)     본부장  -       SACE는 보고한 대로 들어가면 다행으로 생각되지만 이미 2~3개월 Impact가 발생하고 있으므로 차질없이 진행 요망  -       SACE는 자재 때문에 현장 영향이 크므로 지속 관리 바람.  -       밀란 사무소 포함 담맘 Office도 지속 보강할 수 있도록 할 것  12.  이호성 실장  1)     건축 배터리 공장 지반 조사 관련 검토 결과 대표 이사 보고 하였음.  2)     본부장  -       건축본부에서 배터리 지반 조사 관련 플랜트 검토토록 대표님이 지시함.  건축에서는 3자 검토에서도 문제가 없다고 하였으나, 플랜트 토목에서 검토 결과 지반에 문제가 있다고 판단되어 보고한 사항임.  13.  한정우 실장  1)     SSHN 2 변전소 건물 LEC 3D Modeling 관련 사항 보고함 (LEC에서 건물 내 Modeling을 하지 않겠다는 입장임)  2)     Cable Auto Routing을 적용해서 IKAN에서 그 효과가 입증 되었으므로 적용하고자 하니 협조 바람.  3)     본부장  -       PM이 LEC와 협의하여 LEC 3D Modeling이 적용될 수 있도록 할 것  -       Cable Auto Routing을 적용해서 효과가 있다면 적용하도록 지원할 것  14.  구도균 실장  1)     EGAT  -       Water Bath: 주중 Test 및 Operation 예정임.  2)     KGP: 현지 실사 포함하여 금일 본부장 보고 예정임.\n"
          ]
        }
      ]
    }
  ]
}